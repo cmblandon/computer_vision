{
 "cells": [
  {
   "cell_type": "markdown",
   "id": "3850307f",
   "metadata": {},
   "source": [
    "# Taller 02: Clasificación Multiclase de Imágenes\n",
    "\n",
    "**Objetivos:**\n",
    "\n",
    "1. Realizar exploración del conjunto de datos\n",
    "2. Extraer características usando un modelo preentrenado (ResNet50)\n",
    "3. Entrenar una cabeza de clasificación usando AutoGluon\n",
    "4. Evaluar el desempeño del modelo\n",
    "\n",
    "**Estructura de directorios:**\n",
    "```\n",
    "data/labelme/\n",
    "    train/\n",
    "        class_1/\n",
    "        class_2/\n",
    "        ...\n",
    "    test/\n",
    "        class_1/\n",
    "        class_2/\n",
    "        ...\n",
    "```\n",
    "Descargar Dataset de https://www.ais.uni-bonn.de/download/datasets.html"
   ]
  },
  {
   "cell_type": "markdown",
   "id": "fcb18165",
   "metadata": {},
   "source": [
    "## 1. Exploración del conjunto de datos"
   ]
  },
  {
   "cell_type": "code",
   "execution_count": 68,
   "id": "2730cc48",
   "metadata": {},
   "outputs": [],
   "source": [
    "# Setup & Dependencies\n",
    "import pandas as pd\n",
    "import numpy as np\n",
    "import pandas as pd\n",
    "import matplotlib.pyplot as plt\n",
    "import torch\n",
    "import glob\n",
    "import torch.nn as nn\n",
    "from tqdm import tqdm\n",
    "from pathlib import Path\n",
    "from torchvision import models, transforms\n",
    "from torchvision.models import ResNet50_Weights\n",
    "from torch.utils.data import DataLoader, Dataset\n",
    "from autogluon.multimodal import MultiModalPredictor\n"
   ]
  },
  {
   "cell_type": "code",
   "execution_count": 34,
   "id": "fb9c39d6",
   "metadata": {},
   "outputs": [
    {
     "name": "stdout",
     "output_type": "stream",
     "text": [
      "Using device: mps\n"
     ]
    }
   ],
   "source": [
    "# Selección de GPU si está disponible\n",
    "if torch.cuda.is_available():\n",
    "    DEVICE = \"cuda\"\n",
    "elif torch.backends.mps.is_available():\n",
    "    DEVICE = \"mps\"\n",
    "else:\n",
    "    DEVICE = \"cpu\"\n",
    "\n",
    "print(\"Using device:\", DEVICE)"
   ]
  },
  {
   "cell_type": "code",
   "execution_count": 52,
   "id": "3c45be4f",
   "metadata": {},
   "outputs": [
    {
     "name": "stdout",
     "output_type": "stream",
     "text": [
      "Extrayendo dataset en 'data'...\n",
      "Extracción completa.\n"
     ]
    }
   ],
   "source": [
    "import os\n",
    "import tarfile\n",
    "\n",
    "archive = \"LabelMe-12-50k.tar.gz\"\n",
    "extract_dir = os.path.join(\"data\")\n",
    "\n",
    "# Crea el directorio \"data\" si no existe\n",
    "os.makedirs(extract_dir, exist_ok=True)\n",
    "\n",
    "# Verifica si ya se extrajeron las carpetas 'train' y 'test'\n",
    "if not (os.path.isdir(os.path.join(extract_dir, \"train\")) and os.path.isdir(os.path.join(extract_dir, \"test\"))):\n",
    "    if not os.path.isfile(archive):\n",
    "        print(\"Por favor, descarga LabelMe-12-50k.tar.gz en el directorio de trabajo.\")\n",
    "    else:\n",
    "        print(\"Extrayendo dataset en 'data'...\")\n",
    "        with tarfile.open(archive, \"r:gz\") as tar:\n",
    "            tar.extractall(path=extract_dir)\n",
    "        print(\"Extracción completa.\")\n",
    "else:\n",
    "    print(\"El dataset ya se encuentra extraído en\", extract_dir)"
   ]
  },
  {
   "cell_type": "code",
   "execution_count": 53,
   "id": "045b2ba6",
   "metadata": {},
   "outputs": [
    {
     "name": "stdout",
     "output_type": "stream",
     "text": [
      "  class                        path\n",
      "0  0003  data/train/0003/003301.jpg\n",
      "1  0003  data/train/0003/003467.jpg\n",
      "2  0003  data/train/0003/003473.jpg\n",
      "3  0003  data/train/0003/003315.jpg\n",
      "4  0003  data/train/0003/003329.jpg\n",
      "\n",
      "Número de clases : 40\n",
      "Imágenes por clase:\n",
      " class\n",
      "0003    1000\n",
      "0004    1000\n",
      "0000    1000\n",
      "0036    1000\n",
      "0009    1000\n",
      "0031    1000\n",
      "0030    1000\n",
      "0037    1000\n",
      "0008    1000\n",
      "0001    1000\n",
      "0006    1000\n",
      "0039    1000\n",
      "0024    1000\n",
      "0023    1000\n",
      "0015    1000\n",
      "0012    1000\n",
      "0013    1000\n",
      "0014    1000\n",
      "0022    1000\n",
      "0038    1000\n",
      "0007    1000\n",
      "0021    1000\n",
      "0018    1000\n",
      "0032    1000\n",
      "0035    1000\n",
      "0034    1000\n",
      "0033    1000\n",
      "0005    1000\n",
      "0002    1000\n",
      "0020    1000\n",
      "0027    1000\n",
      "0026    1000\n",
      "0011    1000\n",
      "0029    1000\n",
      "0016    1000\n",
      "0028    1000\n",
      "0017    1000\n",
      "0010    1000\n",
      "0019    1000\n",
      "0025    1000\n",
      "Name: count, dtype: int64\n"
     ]
    },
    {
     "data": {
      "image/png": "[encoded data removed]",
      "text/plain": [
       "<Figure size 640x480 with 1 Axes>"
      ]
     },
     "metadata": {},
     "output_type": "display_data"
    }
   ],
   "source": [
    "ROOT = Path(\"data/train\")           # cambia a test para inspeccionar el split de test\n",
    "IMAGE_GLOB_PATTERN = \"*/*.jpg\" \n",
    "image_paths = list(ROOT.glob(IMAGE_GLOB_PATTERN))    # adapta extensión si es .png o similar\n",
    "\n",
    "df = pd.DataFrame({\n",
    "    \"class\": [p.parent.name for p in image_paths],\n",
    "    \"path\": image_paths\n",
    "})\n",
    "\n",
    "print(df.head())\n",
    "print(\"\\nNúmero de clases :\", df['class'].nunique())\n",
    "print(\"Imágenes por clase:\\n\", df['class'].value_counts())\n",
    "\n",
    "# Distribución\n",
    "plt.figure()\n",
    "df['class'].value_counts().plot(kind='bar')\n",
    "plt.title(\"Distribución de imágenes por clase (train)\")\n",
    "plt.tight_layout()\n",
    "plt.show()"
   ]
  },
  {
   "cell_type": "code",
   "execution_count": 69,
   "id": "6ae4fa5c",
   "metadata": {},
   "outputs": [
    {
     "name": "stdout",
     "output_type": "stream",
     "text": [
      "Train size: 40000 Test size: 10000\n"
     ]
    }
   ],
   "source": [
    "# Parse annotation files into DataFrames\n",
    "# Annotation format: human-readable text files (annotation-train.txt, annotation-test.txt) with 12 floats per image + filename prefix ([kaggle.com](https://www.kaggle.com/datasets/dschettler8845/labelme-12-50k?utm_source=chatgpt.com))\n",
    "\n",
    "def load_annotations(split):\n",
    "    # Buscar el archivo de anotaciones dentro del directorio split\n",
    "    ann_file_options = [\n",
    "        os.path.join(extract_dir, split, f\"annotation-{split}.txt\"),\n",
    "        os.path.join(extract_dir, split, \"annotation.txt\")\n",
    "    ]\n",
    "    \n",
    "    ann_file = None\n",
    "    for candidate in ann_file_options:\n",
    "        if os.path.isfile(candidate):\n",
    "            ann_file = candidate\n",
    "            break\n",
    "    if ann_file is None:\n",
    "        raise FileNotFoundError(\n",
    "            f\"No se encontró un archivo de anotaciones válido para el split '{split}' en {os.path.join(extract_dir, split)}.\"\n",
    "        )\n",
    "    \n",
    "    data = []\n",
    "    with open(ann_file) as f:\n",
    "        for line in f:\n",
    "            parts = line.strip().split()\n",
    "            img_name = parts[0] + \".jpg\"\n",
    "            vals = list(map(float, parts[1:]))\n",
    "            label_idx = vals.index(1.0) if 1.0 in vals else 12\n",
    "            # Buscar la imagen en cualquiera de las subcarpetas (por clase) dentro de <extract_dir>/<split>\n",
    "            pattern = os.path.join(extract_dir, split, \"*\", img_name)\n",
    "            matches = glob.glob(pattern)\n",
    "            if not matches:\n",
    "                raise FileNotFoundError(f\"No se encontró la imagen {img_name} en {os.path.join(extract_dir, split)}\")\n",
    "            image_path = matches[0]\n",
    "            data.append({\n",
    "                \"image\": image_path,\n",
    "                \"label\": label_idx\n",
    "            })\n",
    "    return pd.DataFrame(data)\n",
    "\n",
    "# Cargar anotaciones para train y test\n",
    "train_df = load_annotations(\"train\")\n",
    "test_df  = load_annotations(\"test\")\n",
    "print(\"Train size:\", len(train_df), \"Test size:\", len(test_df))"
   ]
  },
  {
   "cell_type": "code",
   "execution_count": 70,
   "id": "fb24bd4f",
   "metadata": {},
   "outputs": [
    {
     "data": {
      "application/vnd.microsoft.datawrangler.viewer.v0+json": {
       "columns": [
        {
         "name": "index",
         "rawType": "int64",
         "type": "integer"
        },
        {
         "name": "image",
         "rawType": "object",
         "type": "string"
        },
        {
         "name": "label",
         "rawType": "int64",
         "type": "integer"
        }
       ],
       "conversionMethod": "pd.DataFrame",
       "ref": "12322644-5582-4a4b-9d40-aba54e603d82",
       "rows": [
        [
         "0",
         "data/train/0000/000000.jpg",
         "4"
        ],
        [
         "1",
         "data/train/0000/000001.jpg",
         "1"
        ],
        [
         "2",
         "data/train/0000/000002.jpg",
         "2"
        ],
        [
         "3",
         "data/train/0000/000003.jpg",
         "1"
        ],
        [
         "4",
         "data/train/0000/000004.jpg",
         "1"
        ]
       ],
       "shape": {
        "columns": 2,
        "rows": 5
       }
      },
      "text/html": [
       "<div>\n",
       "<style scoped>\n",
       "    .dataframe tbody tr th:only-of-type {\n",
       "        vertical-align: middle;\n",
       "    }\n",
       "\n",
       "    .dataframe tbody tr th {\n",
       "        vertical-align: top;\n",
       "    }\n",
       "\n",
       "    .dataframe thead th {\n",
       "        text-align: right;\n",
       "    }\n",
       "</style>\n",
       "<table border=\"1\" class=\"dataframe\">\n",
       "  <thead>\n",
       "    <tr style=\"text-align: right;\">\n",
       "      <th></th>\n",
       "      <th>image</th>\n",
       "      <th>label</th>\n",
       "    </tr>\n",
       "  </thead>\n",
       "  <tbody>\n",
       "    <tr>\n",
       "      <th>0</th>\n",
       "      <td>data/train/0000/000000.jpg</td>\n",
       "      <td>4</td>\n",
       "    </tr>\n",
       "    <tr>\n",
       "      <th>1</th>\n",
       "      <td>data/train/0000/000001.jpg</td>\n",
       "      <td>1</td>\n",
       "    </tr>\n",
       "    <tr>\n",
       "      <th>2</th>\n",
       "      <td>data/train/0000/000002.jpg</td>\n",
       "      <td>2</td>\n",
       "    </tr>\n",
       "    <tr>\n",
       "      <th>3</th>\n",
       "      <td>data/train/0000/000003.jpg</td>\n",
       "      <td>1</td>\n",
       "    </tr>\n",
       "    <tr>\n",
       "      <th>4</th>\n",
       "      <td>data/train/0000/000004.jpg</td>\n",
       "      <td>1</td>\n",
       "    </tr>\n",
       "  </tbody>\n",
       "</table>\n",
       "</div>"
      ],
      "text/plain": [
       "                        image  label\n",
       "0  data/train/0000/000000.jpg      4\n",
       "1  data/train/0000/000001.jpg      1\n",
       "2  data/train/0000/000002.jpg      2\n",
       "3  data/train/0000/000003.jpg      1\n",
       "4  data/train/0000/000004.jpg      1"
      ]
     },
     "execution_count": 70,
     "metadata": {},
     "output_type": "execute_result"
    }
   ],
   "source": [
    "train_df.head()"
   ]
  },
  {
   "cell_type": "code",
   "execution_count": 71,
   "id": "56d22391",
   "metadata": {},
   "outputs": [],
   "source": [
    "# Define ResNet50 feature extractor\n",
    "transform = transforms.Compose([\n",
    "    transforms.Resize(256),\n",
    "    transforms.CenterCrop(224),\n",
    "    transforms.ToTensor(),\n",
    "    transforms.Normalize(mean=[0.485,0.456,0.406], std=[0.229,0.224,0.225])\n",
    "])\n",
    "\n",
    "weights = ResNet50_Weights.IMAGENET1K_V1\n",
    "resnet = models.resnet50(weights=weights)\n",
    "feature_extractor = nn.Sequential(*list(resnet.children())[:-1]).to(DEVICE).eval()\n",
    "\n",
    "# Custom Dataset to wrap images + transform\n",
    "class ImageFeatureDataset(Dataset):\n",
    "    def __init__(self, df, transform):\n",
    "        self.df = df.reset_index(drop=True)\n",
    "        self.transform = transform\n",
    "\n",
    "    def __len__(self):\n",
    "        return len(self.df)\n",
    "\n",
    "    def __getitem__(self, idx):\n",
    "        row = self.df.loc[idx]\n",
    "        from PIL import Image\n",
    "        im = Image.open(row['image']).convert('RGB')\n",
    "        im = self.transform(im)\n",
    "        return im, int(row['label']), idx"
   ]
  },
  {
   "cell_type": "code",
   "execution_count": 72,
   "id": "5823b167",
   "metadata": {},
   "outputs": [
    {
     "name": "stderr",
     "output_type": "stream",
     "text": [
      "Extracting features: 100%|██████████| 1250/1250 [03:21<00:00,  6.20it/s]\n",
      "Extracting features: 100%|██████████| 313/313 [00:52<00:00,  6.01it/s]"
     ]
    },
    {
     "name": "stdout",
     "output_type": "stream",
     "text": [
      "(40000, 2049) (10000, 2049)\n"
     ]
    },
    {
     "name": "stderr",
     "output_type": "stream",
     "text": [
      "\n"
     ]
    }
   ],
   "source": [
    "# Extract & store features in DataFrame\n",
    "\n",
    "def extract_features(df):\n",
    "    ds = ImageFeatureDataset(df, transform)\n",
    "    loader = DataLoader(ds, batch_size=32, shuffle=False, num_workers=0)\n",
    "    features = np.zeros((len(ds), 2048), dtype=np.float32)\n",
    "    labels = df['label'].values\n",
    "    for images, _, idxs in tqdm(loader, desc=\"Extracting features\"):\n",
    "        images = images.to(DEVICE)\n",
    "        with torch.no_grad():\n",
    "            feats = feature_extractor(images).view(images.size(0), -1)\n",
    "        features[idxs.numpy(), :] = feats.cpu().numpy()\n",
    "    # return new DataFrame\n",
    "    feat_df = pd.DataFrame(features, columns=[f\"f{i}\" for i in range(2048)])\n",
    "    feat_df['label'] = labels\n",
    "    return feat_df\n",
    "\n",
    "train_feat_df = extract_features(train_df)\n",
    "test_feat_df  = extract_features(test_df)\n",
    "print(train_feat_df.shape, test_feat_df.shape)"
   ]
  },
  {
   "cell_type": "code",
   "execution_count": 73,
   "id": "7c4545a4",
   "metadata": {},
   "outputs": [
    {
     "name": "stdout",
     "output_type": "stream",
     "text": [
      "Features saved to TSV.\n"
     ]
    }
   ],
   "source": [
    "# Save feature files (optional)\n",
    "train_feat_df.to_csv(\"data/features_train.tsv\", index=False)\n",
    "test_feat_df.to_csv(\"data/features_test.tsv\", index=False)\n",
    "print(\"Features saved to TSV.\")"
   ]
  },
  {
   "cell_type": "code",
   "execution_count": 75,
   "id": "c1f82174",
   "metadata": {},
   "outputs": [
    {
     "name": "stderr",
     "output_type": "stream",
     "text": [
      "=================== System Info ===================\n",
      "AutoGluon Version:  1.2\n",
      "Python Version:     3.10.16\n",
      "Operating System:   Darwin\n",
      "Platform Machine:   arm64\n",
      "Platform Version:   Darwin Kernel Version 24.4.0: Fri Apr 11 18:33:47 PDT 2025; root:xnu-11417.101.15~117/RELEASE_ARM64_T6030\n",
      "CPU Count:          11\n",
      "Pytorch Version:    2.5.1\n",
      "CUDA Version:       CUDA is not available\n",
      "Memory Avail:       4.49 GB / 18.00 GB (25.0%)\n",
      "Disk Space Avail:   276.35 GB / 460.43 GB (60.0%)\n",
      "===================================================\n",
      "\n",
      "AutoMM starts to create your model. ✨✨✨\n",
      "\n",
      "To track the learning progress, you can open a terminal and launch Tensorboard:\n",
      "    ```shell\n",
      "    # Assume you have installed tensorboard\n",
      "    tensorboard --logdir /Users/cristianblandon/projects/computerVision/Taller02-clasificacion/automm_labelme_features\n",
      "    ```\n",
      "\n",
      "Seed set to 0\n",
      "GPU Count: 0\n",
      "GPU Count to be Used: 0\n",
      "\n",
      "/opt/anaconda3/envs/autogluon-env/lib/python3.10/site-packages/autogluon/multimodal/utils/environment.py:131: UserWarning: Only CPU is detected in the instance. This may result in slow speed for MultiModalPredictor. Consider using an instance with GPU support.\n",
      "  warnings.warn(\n",
      "GPU available: True (mps), used: True\n",
      "TPU available: False, using: 0 TPU cores\n",
      "HPU available: False, using: 0 HPUs\n",
      "\n",
      "  | Name              | Type               | Params | Mode \n",
      "-----------------------------------------------------------------\n",
      "0 | model             | NumericalMLP       | 268 K  | train\n",
      "1 | validation_metric | MulticlassAccuracy | 0      | train\n",
      "2 | loss_func         | CrossEntropyLoss   | 0      | train\n",
      "-----------------------------------------------------------------\n",
      "268 K     Trainable params\n",
      "0         Non-trainable params\n",
      "268 K     Total params\n",
      "1.072     Total estimated model params size (MB)\n",
      "12        Modules in train mode\n",
      "0         Modules in eval mode\n"
     ]
    },
    {
     "data": {
      "application/vnd.jupyter.widget-view+json": {
       "model_id": "512e5b271fb447c6bc1bdbe969b95e32",
       "version_major": 2,
       "version_minor": 0
      },
      "text/plain": [
       "Sanity Checking: |          | 0/? [00:00<?, ?it/s]"
      ]
     },
     "metadata": {},
     "output_type": "display_data"
    },
    {
     "data": {
      "application/vnd.jupyter.widget-view+json": {
       "model_id": "ee72b3d5719240179e41813ffde32adf",
       "version_major": 2,
       "version_minor": 0
      },
      "text/plain": [
       "Training: |          | 0/? [00:00<?, ?it/s]"
      ]
     },
     "metadata": {},
     "output_type": "display_data"
    },
    {
     "data": {
      "application/vnd.jupyter.widget-view+json": {
       "model_id": "034f750978cf4c93960f8da75e2edb94",
       "version_major": 2,
       "version_minor": 0
      },
      "text/plain": [
       "Validation: |          | 0/? [00:00<?, ?it/s]"
      ]
     },
     "metadata": {},
     "output_type": "display_data"
    },
    {
     "name": "stderr",
     "output_type": "stream",
     "text": [
      "Epoch 0, global step 156: 'val_accuracy' reached 0.79230 (best 0.79230), saving model to '/Users/cristianblandon/projects/computerVision/Taller02-clasificacion/automm_labelme_features/epoch=0-step=156.ckpt' as top 3\n"
     ]
    },
    {
     "data": {
      "application/vnd.jupyter.widget-view+json": {
       "model_id": "37321c04b3264b87b8c6fdd6b33698bc",
       "version_major": 2,
       "version_minor": 0
      },
      "text/plain": [
       "Validation: |          | 0/? [00:00<?, ?it/s]"
      ]
     },
     "metadata": {},
     "output_type": "display_data"
    },
    {
     "name": "stderr",
     "output_type": "stream",
     "text": [
      "Epoch 0, global step 312: 'val_accuracy' reached 0.81950 (best 0.81950), saving model to '/Users/cristianblandon/projects/computerVision/Taller02-clasificacion/automm_labelme_features/epoch=0-step=312.ckpt' as top 3\n"
     ]
    },
    {
     "data": {
      "application/vnd.jupyter.widget-view+json": {
       "model_id": "7edf99a55f8b452abc38af957f4c30e4",
       "version_major": 2,
       "version_minor": 0
      },
      "text/plain": [
       "Validation: |          | 0/? [00:00<?, ?it/s]"
      ]
     },
     "metadata": {},
     "output_type": "display_data"
    },
    {
     "name": "stderr",
     "output_type": "stream",
     "text": [
      "Epoch 1, global step 469: 'val_accuracy' reached 0.83610 (best 0.83610), saving model to '/Users/cristianblandon/projects/computerVision/Taller02-clasificacion/automm_labelme_features/epoch=1-step=469.ckpt' as top 3\n"
     ]
    },
    {
     "data": {
      "application/vnd.jupyter.widget-view+json": {
       "model_id": "e465347850aa4a20ae0127de1e8966e6",
       "version_major": 2,
       "version_minor": 0
      },
      "text/plain": [
       "Validation: |          | 0/? [00:00<?, ?it/s]"
      ]
     },
     "metadata": {},
     "output_type": "display_data"
    },
    {
     "name": "stderr",
     "output_type": "stream",
     "text": [
      "Epoch 1, global step 625: 'val_accuracy' reached 0.83320 (best 0.83610), saving model to '/Users/cristianblandon/projects/computerVision/Taller02-clasificacion/automm_labelme_features/epoch=1-step=625.ckpt' as top 3\n"
     ]
    },
    {
     "data": {
      "application/vnd.jupyter.widget-view+json": {
       "model_id": "422570e2e025453db7e7f8a2bf540070",
       "version_major": 2,
       "version_minor": 0
      },
      "text/plain": [
       "Validation: |          | 0/? [00:00<?, ?it/s]"
      ]
     },
     "metadata": {},
     "output_type": "display_data"
    },
    {
     "name": "stderr",
     "output_type": "stream",
     "text": [
      "Epoch 2, global step 782: 'val_accuracy' reached 0.84200 (best 0.84200), saving model to '/Users/cristianblandon/projects/computerVision/Taller02-clasificacion/automm_labelme_features/epoch=2-step=782.ckpt' as top 3\n"
     ]
    },
    {
     "data": {
      "application/vnd.jupyter.widget-view+json": {
       "model_id": "ca2a44cba5c640ec8bbf6b8a5bf9e454",
       "version_major": 2,
       "version_minor": 0
      },
      "text/plain": [
       "Validation: |          | 0/? [00:00<?, ?it/s]"
      ]
     },
     "metadata": {},
     "output_type": "display_data"
    },
    {
     "name": "stderr",
     "output_type": "stream",
     "text": [
      "Epoch 2, global step 938: 'val_accuracy' reached 0.84940 (best 0.84940), saving model to '/Users/cristianblandon/projects/computerVision/Taller02-clasificacion/automm_labelme_features/epoch=2-step=938.ckpt' as top 3\n"
     ]
    },
    {
     "data": {
      "application/vnd.jupyter.widget-view+json": {
       "model_id": "c6350af9c8804b2aa9134c309282c3f3",
       "version_major": 2,
       "version_minor": 0
      },
      "text/plain": [
       "Validation: |          | 0/? [00:00<?, ?it/s]"
      ]
     },
     "metadata": {},
     "output_type": "display_data"
    },
    {
     "name": "stderr",
     "output_type": "stream",
     "text": [
      "Epoch 3, global step 1095: 'val_accuracy' was not in top 3\n"
     ]
    },
    {
     "data": {
      "application/vnd.jupyter.widget-view+json": {
       "model_id": "256a1e4ae1874312ac4bff774537f35f",
       "version_major": 2,
       "version_minor": 0
      },
      "text/plain": [
       "Validation: |          | 0/? [00:00<?, ?it/s]"
      ]
     },
     "metadata": {},
     "output_type": "display_data"
    },
    {
     "name": "stderr",
     "output_type": "stream",
     "text": [
      "Epoch 3, global step 1251: 'val_accuracy' was not in top 3\n"
     ]
    },
    {
     "data": {
      "application/vnd.jupyter.widget-view+json": {
       "model_id": "dd88be8e358b4863ac8d4ec7fff6ff7e",
       "version_major": 2,
       "version_minor": 0
      },
      "text/plain": [
       "Validation: |          | 0/? [00:00<?, ?it/s]"
      ]
     },
     "metadata": {},
     "output_type": "display_data"
    },
    {
     "name": "stderr",
     "output_type": "stream",
     "text": [
      "Epoch 4, global step 1408: 'val_accuracy' was not in top 3\n"
     ]
    },
    {
     "data": {
      "application/vnd.jupyter.widget-view+json": {
       "model_id": "d34965728017467eb2c7d370fe9aace6",
       "version_major": 2,
       "version_minor": 0
      },
      "text/plain": [
       "Validation: |          | 0/? [00:00<?, ?it/s]"
      ]
     },
     "metadata": {},
     "output_type": "display_data"
    },
    {
     "name": "stderr",
     "output_type": "stream",
     "text": [
      "Epoch 4, global step 1564: 'val_accuracy' was not in top 3\n"
     ]
    },
    {
     "data": {
      "application/vnd.jupyter.widget-view+json": {
       "model_id": "f96f22e3d4254b53b2e49234b076be6e",
       "version_major": 2,
       "version_minor": 0
      },
      "text/plain": [
       "Validation: |          | 0/? [00:00<?, ?it/s]"
      ]
     },
     "metadata": {},
     "output_type": "display_data"
    },
    {
     "name": "stderr",
     "output_type": "stream",
     "text": [
      "Epoch 5, global step 1721: 'val_accuracy' was not in top 3\n"
     ]
    },
    {
     "data": {
      "application/vnd.jupyter.widget-view+json": {
       "model_id": "d543d2ba6dd147cc999b304c4692875a",
       "version_major": 2,
       "version_minor": 0
      },
      "text/plain": [
       "Validation: |          | 0/? [00:00<?, ?it/s]"
      ]
     },
     "metadata": {},
     "output_type": "display_data"
    },
    {
     "name": "stderr",
     "output_type": "stream",
     "text": [
      "Epoch 5, global step 1877: 'val_accuracy' was not in top 3\n"
     ]
    },
    {
     "data": {
      "application/vnd.jupyter.widget-view+json": {
       "model_id": "197d99ecd92a4f7a8e28b08a557b2e91",
       "version_major": 2,
       "version_minor": 0
      },
      "text/plain": [
       "Validation: |          | 0/? [00:00<?, ?it/s]"
      ]
     },
     "metadata": {},
     "output_type": "display_data"
    },
    {
     "name": "stderr",
     "output_type": "stream",
     "text": [
      "Epoch 6, global step 2034: 'val_accuracy' was not in top 3\n"
     ]
    },
    {
     "data": {
      "application/vnd.jupyter.widget-view+json": {
       "model_id": "8af3ff81a9ba416badc856843543d9a9",
       "version_major": 2,
       "version_minor": 0
      },
      "text/plain": [
       "Validation: |          | 0/? [00:00<?, ?it/s]"
      ]
     },
     "metadata": {},
     "output_type": "display_data"
    },
    {
     "name": "stderr",
     "output_type": "stream",
     "text": [
      "Epoch 6, global step 2190: 'val_accuracy' was not in top 3\n"
     ]
    },
    {
     "data": {
      "application/vnd.jupyter.widget-view+json": {
       "model_id": "417e85359563450b82b61467a7b6bb5c",
       "version_major": 2,
       "version_minor": 0
      },
      "text/plain": [
       "Validation: |          | 0/? [00:00<?, ?it/s]"
      ]
     },
     "metadata": {},
     "output_type": "display_data"
    },
    {
     "name": "stderr",
     "output_type": "stream",
     "text": [
      "Epoch 7, global step 2347: 'val_accuracy' reached 0.84170 (best 0.84940), saving model to '/Users/cristianblandon/projects/computerVision/Taller02-clasificacion/automm_labelme_features/epoch=7-step=2347.ckpt' as top 3\n"
     ]
    },
    {
     "data": {
      "application/vnd.jupyter.widget-view+json": {
       "model_id": "b379cb3e086d4c108dd7c0eff5811b18",
       "version_major": 2,
       "version_minor": 0
      },
      "text/plain": [
       "Validation: |          | 0/? [00:00<?, ?it/s]"
      ]
     },
     "metadata": {},
     "output_type": "display_data"
    },
    {
     "name": "stderr",
     "output_type": "stream",
     "text": [
      "Epoch 7, global step 2503: 'val_accuracy' was not in top 3\n",
      "Start to fuse 3 checkpoints via the greedy soup algorithm.\n",
      "/opt/anaconda3/envs/autogluon-env/lib/python3.10/site-packages/autogluon/multimodal/learners/base.py:2117: FutureWarning: You are using `torch.load` with `weights_only=False` (the current default value), which uses the default pickle module implicitly. It is possible to construct malicious pickle data which will execute arbitrary code during unpickling (See https://github.com/pytorch/pytorch/blob/main/SECURITY.md#untrusted-models for more details). In a future release, the default value for `weights_only` will be flipped to `True`. This limits the functions that could be executed during unpickling. Arbitrary objects will no longer be allowed to be loaded via this mode unless they are explicitly allowlisted by the user via `torch.serialization.add_safe_globals`. We recommend you start setting `weights_only=True` for any use case where you don't have full control of the loaded file. Please open an issue on GitHub for any issues related to this experimental feature.\n",
      "  state_dict = torch.load(path, map_location=torch.device(\"cpu\"))[\"state_dict\"]  # nosec B614\n",
      "You are using the plain ModelCheckpoint callback. Consider using LitModelCheckpoint which with seamless uploading to Model registry.\n"
     ]
    },
    {
     "data": {
      "application/vnd.jupyter.widget-view+json": {
       "model_id": "cd27a11029464e73874dddbb23034c29",
       "version_major": 2,
       "version_minor": 0
      },
      "text/plain": [
       "Predicting: |          | 0/? [00:00<?, ?it/s]"
      ]
     },
     "metadata": {},
     "output_type": "display_data"
    },
    {
     "name": "stderr",
     "output_type": "stream",
     "text": [
      "/opt/anaconda3/envs/autogluon-env/lib/python3.10/site-packages/autogluon/multimodal/utils/checkpoint.py:45: FutureWarning: You are using `torch.load` with `weights_only=False` (the current default value), which uses the default pickle module implicitly. It is possible to construct malicious pickle data which will execute arbitrary code during unpickling (See https://github.com/pytorch/pytorch/blob/main/SECURITY.md#untrusted-models for more details). In a future release, the default value for `weights_only` will be flipped to `True`. This limits the functions that could be executed during unpickling. Arbitrary objects will no longer be allowed to be loaded via this mode unless they are explicitly allowlisted by the user via `torch.serialization.add_safe_globals`. We recommend you start setting `weights_only=True` for any use case where you don't have full control of the loaded file. Please open an issue on GitHub for any issues related to this experimental feature.\n",
      "  state_dict = torch.load(per_path, map_location=torch.device(\"cpu\"))[\"state_dict\"]  # nosec B614\n",
      "You are using the plain ModelCheckpoint callback. Consider using LitModelCheckpoint which with seamless uploading to Model registry.\n"
     ]
    },
    {
     "data": {
      "application/vnd.jupyter.widget-view+json": {
       "model_id": "1a05dccfd64a4d16842a99cf3ba67f09",
       "version_major": 2,
       "version_minor": 0
      },
      "text/plain": [
       "Predicting: |          | 0/? [00:00<?, ?it/s]"
      ]
     },
     "metadata": {},
     "output_type": "display_data"
    },
    {
     "name": "stderr",
     "output_type": "stream",
     "text": [
      "/opt/anaconda3/envs/autogluon-env/lib/python3.10/site-packages/autogluon/multimodal/utils/checkpoint.py:45: FutureWarning: You are using `torch.load` with `weights_only=False` (the current default value), which uses the default pickle module implicitly. It is possible to construct malicious pickle data which will execute arbitrary code during unpickling (See https://github.com/pytorch/pytorch/blob/main/SECURITY.md#untrusted-models for more details). In a future release, the default value for `weights_only` will be flipped to `True`. This limits the functions that could be executed during unpickling. Arbitrary objects will no longer be allowed to be loaded via this mode unless they are explicitly allowlisted by the user via `torch.serialization.add_safe_globals`. We recommend you start setting `weights_only=True` for any use case where you don't have full control of the loaded file. Please open an issue on GitHub for any issues related to this experimental feature.\n",
      "  state_dict = torch.load(per_path, map_location=torch.device(\"cpu\"))[\"state_dict\"]  # nosec B614\n",
      "You are using the plain ModelCheckpoint callback. Consider using LitModelCheckpoint which with seamless uploading to Model registry.\n"
     ]
    },
    {
     "data": {
      "application/vnd.jupyter.widget-view+json": {
       "model_id": "521a2b4a5a9646c2be8a2c996f9325ad",
       "version_major": 2,
       "version_minor": 0
      },
      "text/plain": [
       "Predicting: |          | 0/? [00:00<?, ?it/s]"
      ]
     },
     "metadata": {},
     "output_type": "display_data"
    },
    {
     "name": "stderr",
     "output_type": "stream",
     "text": [
      "/opt/anaconda3/envs/autogluon-env/lib/python3.10/site-packages/autogluon/multimodal/utils/checkpoint.py:45: FutureWarning: You are using `torch.load` with `weights_only=False` (the current default value), which uses the default pickle module implicitly. It is possible to construct malicious pickle data which will execute arbitrary code during unpickling (See https://github.com/pytorch/pytorch/blob/main/SECURITY.md#untrusted-models for more details). In a future release, the default value for `weights_only` will be flipped to `True`. This limits the functions that could be executed during unpickling. Arbitrary objects will no longer be allowed to be loaded via this mode unless they are explicitly allowlisted by the user via `torch.serialization.add_safe_globals`. We recommend you start setting `weights_only=True` for any use case where you don't have full control of the loaded file. Please open an issue on GitHub for any issues related to this experimental feature.\n",
      "  state_dict = torch.load(per_path, map_location=torch.device(\"cpu\"))[\"state_dict\"]  # nosec B614\n",
      "AutoMM has created your model. 🎉🎉🎉\n",
      "\n",
      "To load the model, use the code below:\n",
      "    ```python\n",
      "    from autogluon.multimodal import MultiModalPredictor\n",
      "    predictor = MultiModalPredictor.load(\"/Users/cristianblandon/projects/computerVision/Taller02-clasificacion/automm_labelme_features\")\n",
      "    ```\n",
      "\n",
      "If you are not satisfied with the model, try to increase the training time, \n",
      "adjust the hyperparameters (https://auto.gluon.ai/stable/tutorials/multimodal/advanced_topics/customization.html),\n",
      "or post issues on GitHub (https://github.com/autogluon/autogluon/issues).\n",
      "\n",
      "\n"
     ]
    },
    {
     "data": {
      "text/plain": [
       "<autogluon.multimodal.predictor.MultiModalPredictor at 0x178cf98d0>"
      ]
     },
     "execution_count": 75,
     "metadata": {},
     "output_type": "execute_result"
    }
   ],
   "source": [
    "#Train numerical MLP head in AutoGluon-Multimodal\n",
    "\n",
    "predictor = MultiModalPredictor(\n",
    "    label='label',\n",
    "    problem_type='multiclass',\n",
    "    path='automm_labelme_features',\n",
    "    presets='medium_quality',\n",
    "    pretrained=False  # use only numerical MLP head\n",
    ")\n",
    "predictor.fit(\n",
    "    train_data=train_feat_df,\n",
    "    tuning_data=test_feat_df,\n",
    "    time_limit=1800,\n",
    "    hyperparameters={\n",
    "        'model.names': ['numerical_mlp'],\n",
    "        'env.per_gpu_batch_size': 64,\n",
    "        'optimization.learning_rate': 1e-3,\n",
    "        'optimization.max_epochs': 20\n",
    "    }\n",
    ")"
   ]
  },
  {
   "cell_type": "code",
   "execution_count": 76,
   "id": "e8db9ac7",
   "metadata": {},
   "outputs": [
    {
     "name": "stderr",
     "output_type": "stream",
     "text": [
      "You are using the plain ModelCheckpoint callback. Consider using LitModelCheckpoint which with seamless uploading to Model registry.\n"
     ]
    },
    {
     "data": {
      "application/vnd.jupyter.widget-view+json": {
       "model_id": "ca1177f2a45247f89ab432ca5d060719",
       "version_major": 2,
       "version_minor": 0
      },
      "text/plain": [
       "Predicting: |          | 0/? [00:00<?, ?it/s]"
      ]
     },
     "metadata": {},
     "output_type": "display_data"
    },
    {
     "name": "stderr",
     "output_type": "stream",
     "text": [
      "You are using the plain ModelCheckpoint callback. Consider using LitModelCheckpoint which with seamless uploading to Model registry.\n"
     ]
    },
    {
     "name": "stdout",
     "output_type": "stream",
     "text": [
      "Evaluation results: {'accuracy': 0.8554}\n"
     ]
    },
    {
     "data": {
      "application/vnd.jupyter.widget-view+json": {
       "model_id": "704c4a67a9874e17bb375fd7ab2a48de",
       "version_major": 2,
       "version_minor": 0
      },
      "text/plain": [
       "Predicting: |          | 0/? [00:00<?, ?it/s]"
      ]
     },
     "metadata": {},
     "output_type": "display_data"
    },
    {
     "name": "stdout",
     "output_type": "stream",
     "text": [
      "Sample predictions: 0     1\n",
      "1    12\n",
      "2     1\n",
      "3     1\n",
      "4    12\n",
      "5     1\n",
      "6    12\n",
      "7     3\n",
      "8    12\n",
      "9    12\n",
      "Name: label, dtype: int64\n"
     ]
    }
   ],
   "source": [
    "# Evaluate & Predict\n",
    "results = predictor.evaluate(test_feat_df)\n",
    "print(\"Evaluation results:\", results)\n",
    "preds = predictor.predict(test_feat_df.drop(columns='label'))\n",
    "print(\"Sample predictions:\", preds[:10])"
   ]
  }
 ],
 "metadata": {
  "kernelspec": {
   "display_name": "autogluon-env",
   "language": "python",
   "name": "python3"
  },
  "language_info": {
   "codemirror_mode": {
    "name": "ipython",
    "version": 3
   },
   "file_extension": ".py",
   "mimetype": "text/x-python",
   "name": "python",
   "nbconvert_exporter": "python",
   "pygments_lexer": "ipython3",
   "version": "3.10.16"
  }
 },
 "nbformat": 4,
 "nbformat_minor": 5
}
