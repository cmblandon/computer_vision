{
 "cells": [
  {
   "cell_type": "markdown",
   "id": "2a995117",
   "metadata": {},
   "source": [
    "## Taller (Detección)\n",
    "- Realizar un modelo para la localización de objetos (Regresión de las coordenadas de los Bounding Box)\n",
    "\n",
    "Pasos:\n",
    "Crear matriz de etiquetas ( )\n",
    "Graficar etiquetas en imágenes:\n",
    "Las etiquetas están dadas por\n",
    "dos puntos\n",
    "• Inicial (x_top, y_top)\n",
    "• Final (x_bottom, y_bottom)\n",
    "Generar Etiquetas:\n",
    "Normalizar por el tamaño de\n",
    "la imagen, de esta forma el\n",
    "modelo predice valores entre\n",
    "0-1 por cada coordenada\n",
    "[x\n",
    "...\n",
    "w\n",
    ",\n",
    "y...\n",
    "h ]\n",
    "\n",
    "2. Modelo: Extractor de características\n",
    "(Convoluciones) + Cabeza (regresión de 4\n",
    "variables)\n",
    "3. Entrenar con función de pérdida MSE (Mean\n",
    "Squared Error)\n",
    "Leer el archivo en formato COCO\n",
    "(\"bbox\" : [x,y,width,height])\n",
    "2. Implementar una función para\n",
    "calcular el IoU de dos rectángulos\n",
    "3. Determinar los rectángulos con\n",
    "mayor IOU"
   ]
  },
  {
   "cell_type": "markdown",
   "id": "8c7fb6ee",
   "metadata": {},
   "source": [
    "Este notebook entrena un modelo basado en `ResNet18` para detectar la ubicación de aviones en imágenes. Utiliza coordenadas corregidas de los bounding boxes, data augmentation y entrenamiento sobre imágenes redimensionadas. Se calcula el IoU promedio como métrica de desempeño."
   ]
  },
  {
   "cell_type": "code",
   "execution_count": 37,
   "id": "a162a5c6",
   "metadata": {},
   "outputs": [
    {
     "name": "stdout",
     "output_type": "stream",
     "text": [
      "Descomprimido en: data/airplanes\n"
     ]
    }
   ],
   "source": [
    "import zipfile\n",
    "import os\n",
    "\n",
    "# Ruta al archivo ZIP\n",
    "zip_path = 'data/airplanes.zip'\n",
    "\n",
    "# Ruta del directorio de destino\n",
    "extract_to = 'data/airplanes'\n",
    "\n",
    "# Crear el directorio si no existe\n",
    "os.makedirs(extract_to, exist_ok=True)\n",
    "\n",
    "# Descomprimir el ZIP\n",
    "with zipfile.ZipFile(zip_path, 'r') as zip_ref:\n",
    "    zip_ref.extractall(extract_to)\n",
    "\n",
    "print(f\"Descomprimido en: {extract_to}\")"
   ]
  },
  {
   "cell_type": "code",
   "execution_count": 38,
   "id": "db7a307d",
   "metadata": {},
   "outputs": [
    {
     "name": "stdout",
     "output_type": "stream",
     "text": [
      "Usando GPU Apple Silicon (MPS)\n"
     ]
    }
   ],
   "source": [
    "import torch\n",
    "\n",
    "# --- Selección dinámica del dispositivo ---\n",
    "if torch.cuda.is_available():\n",
    "    device = torch.device(\"cuda\")\n",
    "    print(\"Usando GPU NVIDIA\")\n",
    "elif torch.backends.mps.is_available():\n",
    "    device = torch.device(\"mps\")\n",
    "    print(\"Usando GPU Apple Silicon (MPS)\")\n",
    "else:\n",
    "    device = torch.device(\"cpu\")\n",
    "    print(\"Usando CPU\")"
   ]
  },
  {
   "cell_type": "markdown",
   "id": "3bba0458",
   "metadata": {},
   "source": [
    "1. Leer el archivo de etiquetas\n",
    "\n",
    "El archivo Airplanes.csv tiene la información de los bounding boxes (en formato COCO: [x, y, width, height]). Empezaremos leyendo ese archivo y asociándolo con las imágenes correspondientes."
   ]
  },
  {
   "cell_type": "code",
   "execution_count": 39,
   "id": "e7a73708",
   "metadata": {},
   "outputs": [
    {
     "name": "stdout",
     "output_type": "stream",
     "text": [
      "Index(['Unnamed: 0', 'Image', 'x_top', 'y_top', 'x_bottom', 'y_bottom',\n",
      "       'label'],\n",
      "      dtype='object')\n"
     ]
    },
    {
     "data": {
      "application/vnd.microsoft.datawrangler.viewer.v0+json": {
       "columns": [
        {
         "name": "index",
         "rawType": "int64",
         "type": "integer"
        },
        {
         "name": "Unnamed: 0",
         "rawType": "int64",
         "type": "integer"
        },
        {
         "name": "Image",
         "rawType": "object",
         "type": "string"
        },
        {
         "name": "x_top",
         "rawType": "int64",
         "type": "integer"
        },
        {
         "name": "y_top",
         "rawType": "int64",
         "type": "integer"
        },
        {
         "name": "x_bottom",
         "rawType": "int64",
         "type": "integer"
        },
        {
         "name": "y_bottom",
         "rawType": "int64",
         "type": "integer"
        },
        {
         "name": "label",
         "rawType": "object",
         "type": "string"
        }
       ],
       "ref": "a9faaf42-a6d4-4bec-8cfc-6460ec73e174",
       "rows": [
        [
         "0",
         "0",
         "image_0001.jpg",
         "30",
         "137",
         "49",
         "349",
         "Airplanes"
        ],
        [
         "1",
         "0",
         "image_0002.jpg",
         "35",
         "153",
         "59",
         "342",
         "Airplanes"
        ],
        [
         "2",
         "0",
         "image_0003.jpg",
         "36",
         "135",
         "47",
         "331",
         "Airplanes"
        ],
        [
         "3",
         "0",
         "image_0004.jpg",
         "24",
         "141",
         "47",
         "342",
         "Airplanes"
        ],
        [
         "4",
         "0",
         "image_0005.jpg",
         "18",
         "146",
         "48",
         "339",
         "Airplanes"
        ]
       ],
       "shape": {
        "columns": 7,
        "rows": 5
       }
      },
      "text/html": [
       "<div>\n",
       "<style scoped>\n",
       "    .dataframe tbody tr th:only-of-type {\n",
       "        vertical-align: middle;\n",
       "    }\n",
       "\n",
       "    .dataframe tbody tr th {\n",
       "        vertical-align: top;\n",
       "    }\n",
       "\n",
       "    .dataframe thead th {\n",
       "        text-align: right;\n",
       "    }\n",
       "</style>\n",
       "<table border=\"1\" class=\"dataframe\">\n",
       "  <thead>\n",
       "    <tr style=\"text-align: right;\">\n",
       "      <th></th>\n",
       "      <th>Unnamed: 0</th>\n",
       "      <th>Image</th>\n",
       "      <th>x_top</th>\n",
       "      <th>y_top</th>\n",
       "      <th>x_bottom</th>\n",
       "      <th>y_bottom</th>\n",
       "      <th>label</th>\n",
       "    </tr>\n",
       "  </thead>\n",
       "  <tbody>\n",
       "    <tr>\n",
       "      <th>0</th>\n",
       "      <td>0</td>\n",
       "      <td>image_0001.jpg</td>\n",
       "      <td>30</td>\n",
       "      <td>137</td>\n",
       "      <td>49</td>\n",
       "      <td>349</td>\n",
       "      <td>Airplanes</td>\n",
       "    </tr>\n",
       "    <tr>\n",
       "      <th>1</th>\n",
       "      <td>0</td>\n",
       "      <td>image_0002.jpg</td>\n",
       "      <td>35</td>\n",
       "      <td>153</td>\n",
       "      <td>59</td>\n",
       "      <td>342</td>\n",
       "      <td>Airplanes</td>\n",
       "    </tr>\n",
       "    <tr>\n",
       "      <th>2</th>\n",
       "      <td>0</td>\n",
       "      <td>image_0003.jpg</td>\n",
       "      <td>36</td>\n",
       "      <td>135</td>\n",
       "      <td>47</td>\n",
       "      <td>331</td>\n",
       "      <td>Airplanes</td>\n",
       "    </tr>\n",
       "    <tr>\n",
       "      <th>3</th>\n",
       "      <td>0</td>\n",
       "      <td>image_0004.jpg</td>\n",
       "      <td>24</td>\n",
       "      <td>141</td>\n",
       "      <td>47</td>\n",
       "      <td>342</td>\n",
       "      <td>Airplanes</td>\n",
       "    </tr>\n",
       "    <tr>\n",
       "      <th>4</th>\n",
       "      <td>0</td>\n",
       "      <td>image_0005.jpg</td>\n",
       "      <td>18</td>\n",
       "      <td>146</td>\n",
       "      <td>48</td>\n",
       "      <td>339</td>\n",
       "      <td>Airplanes</td>\n",
       "    </tr>\n",
       "  </tbody>\n",
       "</table>\n",
       "</div>"
      ],
      "text/plain": [
       "   Unnamed: 0           Image  x_top  y_top  x_bottom  y_bottom      label\n",
       "0           0  image_0001.jpg     30    137        49       349  Airplanes\n",
       "1           0  image_0002.jpg     35    153        59       342  Airplanes\n",
       "2           0  image_0003.jpg     36    135        47       331  Airplanes\n",
       "3           0  image_0004.jpg     24    141        47       342  Airplanes\n",
       "4           0  image_0005.jpg     18    146        48       339  Airplanes"
      ]
     },
     "execution_count": 39,
     "metadata": {},
     "output_type": "execute_result"
    }
   ],
   "source": [
    "import pandas as pd\n",
    "\n",
    "# Leer el archivo CSV con las etiquetas\n",
    "df = pd.read_csv('data/Airplanes.csv')\n",
    "print(df.columns)\n",
    "\n",
    "# Mostrar algunas filas para entender la estructura\n",
    "df.head()"
   ]
  },
  {
   "cell_type": "markdown",
   "id": "0a80b996",
   "metadata": {},
   "source": [
    " 2. Convertir a formato COCO (x, y, width, height)"
   ]
  },
  {
   "cell_type": "code",
   "execution_count": 40,
   "id": "35cf747e",
   "metadata": {},
   "outputs": [
    {
     "data": {
      "application/vnd.microsoft.datawrangler.viewer.v0+json": {
       "columns": [
        {
         "name": "index",
         "rawType": "int64",
         "type": "integer"
        },
        {
         "name": "Unnamed: 0",
         "rawType": "int64",
         "type": "integer"
        },
        {
         "name": "Image",
         "rawType": "object",
         "type": "string"
        },
        {
         "name": "x_top",
         "rawType": "int64",
         "type": "integer"
        },
        {
         "name": "y_top",
         "rawType": "int64",
         "type": "integer"
        },
        {
         "name": "x_bottom",
         "rawType": "int64",
         "type": "integer"
        },
        {
         "name": "y_bottom",
         "rawType": "int64",
         "type": "integer"
        },
        {
         "name": "label",
         "rawType": "object",
         "type": "string"
        },
        {
         "name": "x",
         "rawType": "int64",
         "type": "integer"
        },
        {
         "name": "y",
         "rawType": "int64",
         "type": "integer"
        },
        {
         "name": "width",
         "rawType": "int64",
         "type": "integer"
        },
        {
         "name": "height",
         "rawType": "int64",
         "type": "integer"
        },
        {
         "name": "x2",
         "rawType": "int64",
         "type": "integer"
        },
        {
         "name": "y2",
         "rawType": "int64",
         "type": "integer"
        },
        {
         "name": "x_norm",
         "rawType": "float64",
         "type": "float"
        },
        {
         "name": "y_norm",
         "rawType": "float64",
         "type": "float"
        },
        {
         "name": "x2_norm",
         "rawType": "float64",
         "type": "float"
        },
        {
         "name": "y2_norm",
         "rawType": "float64",
         "type": "float"
        },
        {
         "name": "bbox_norm",
         "rawType": "object",
         "type": "unknown"
        },
        {
         "name": "image_path",
         "rawType": "object",
         "type": "string"
        }
       ],
       "ref": "eaa0a4ba-3906-46f2-93b5-53e580d06bab",
       "rows": [
        [
         "0",
         "0",
         "image_0001.jpg",
         "30",
         "137",
         "49",
         "349",
         "Airplanes",
         "49",
         "30",
         "300",
         "107",
         "349",
         "137",
         "0.095703125",
         "0.05859375",
         "0.681640625",
         "0.267578125",
         "[0.095703125, 0.05859375, 0.681640625, 0.267578125]",
         "data/airplanes/airplanes/image_0001.jpg"
        ],
        [
         "1",
         "0",
         "image_0002.jpg",
         "35",
         "153",
         "59",
         "342",
         "Airplanes",
         "59",
         "35",
         "283",
         "118",
         "342",
         "153",
         "0.115234375",
         "0.068359375",
         "0.66796875",
         "0.298828125",
         "[0.115234375, 0.068359375, 0.66796875, 0.298828125]",
         "data/airplanes/airplanes/image_0002.jpg"
        ],
        [
         "2",
         "0",
         "image_0003.jpg",
         "36",
         "135",
         "47",
         "331",
         "Airplanes",
         "47",
         "36",
         "284",
         "99",
         "331",
         "135",
         "0.091796875",
         "0.0703125",
         "0.646484375",
         "0.263671875",
         "[0.091796875, 0.0703125, 0.646484375, 0.263671875]",
         "data/airplanes/airplanes/image_0003.jpg"
        ],
        [
         "3",
         "0",
         "image_0004.jpg",
         "24",
         "141",
         "47",
         "342",
         "Airplanes",
         "47",
         "24",
         "295",
         "117",
         "342",
         "141",
         "0.091796875",
         "0.046875",
         "0.66796875",
         "0.275390625",
         "[0.091796875, 0.046875, 0.66796875, 0.275390625]",
         "data/airplanes/airplanes/image_0004.jpg"
        ],
        [
         "4",
         "0",
         "image_0005.jpg",
         "18",
         "146",
         "48",
         "339",
         "Airplanes",
         "48",
         "18",
         "291",
         "128",
         "339",
         "146",
         "0.09375",
         "0.03515625",
         "0.662109375",
         "0.28515625",
         "[0.09375, 0.03515625, 0.662109375, 0.28515625]",
         "data/airplanes/airplanes/image_0005.jpg"
        ]
       ],
       "shape": {
        "columns": 19,
        "rows": 5
       }
      },
      "text/html": [
       "<div>\n",
       "<style scoped>\n",
       "    .dataframe tbody tr th:only-of-type {\n",
       "        vertical-align: middle;\n",
       "    }\n",
       "\n",
       "    .dataframe tbody tr th {\n",
       "        vertical-align: top;\n",
       "    }\n",
       "\n",
       "    .dataframe thead th {\n",
       "        text-align: right;\n",
       "    }\n",
       "</style>\n",
       "<table border=\"1\" class=\"dataframe\">\n",
       "  <thead>\n",
       "    <tr style=\"text-align: right;\">\n",
       "      <th></th>\n",
       "      <th>Unnamed: 0</th>\n",
       "      <th>Image</th>\n",
       "      <th>x_top</th>\n",
       "      <th>y_top</th>\n",
       "      <th>x_bottom</th>\n",
       "      <th>y_bottom</th>\n",
       "      <th>label</th>\n",
       "      <th>x</th>\n",
       "      <th>y</th>\n",
       "      <th>width</th>\n",
       "      <th>height</th>\n",
       "      <th>x2</th>\n",
       "      <th>y2</th>\n",
       "      <th>x_norm</th>\n",
       "      <th>y_norm</th>\n",
       "      <th>x2_norm</th>\n",
       "      <th>y2_norm</th>\n",
       "      <th>bbox_norm</th>\n",
       "      <th>image_path</th>\n",
       "    </tr>\n",
       "  </thead>\n",
       "  <tbody>\n",
       "    <tr>\n",
       "      <th>0</th>\n",
       "      <td>0</td>\n",
       "      <td>image_0001.jpg</td>\n",
       "      <td>30</td>\n",
       "      <td>137</td>\n",
       "      <td>49</td>\n",
       "      <td>349</td>\n",
       "      <td>Airplanes</td>\n",
       "      <td>49</td>\n",
       "      <td>30</td>\n",
       "      <td>300</td>\n",
       "      <td>107</td>\n",
       "      <td>349</td>\n",
       "      <td>137</td>\n",
       "      <td>0.095703</td>\n",
       "      <td>0.058594</td>\n",
       "      <td>0.681641</td>\n",
       "      <td>0.267578</td>\n",
       "      <td>[0.095703125, 0.05859375, 0.681640625, 0.26757...</td>\n",
       "      <td>data/airplanes/airplanes/image_0001.jpg</td>\n",
       "    </tr>\n",
       "    <tr>\n",
       "      <th>1</th>\n",
       "      <td>0</td>\n",
       "      <td>image_0002.jpg</td>\n",
       "      <td>35</td>\n",
       "      <td>153</td>\n",
       "      <td>59</td>\n",
       "      <td>342</td>\n",
       "      <td>Airplanes</td>\n",
       "      <td>59</td>\n",
       "      <td>35</td>\n",
       "      <td>283</td>\n",
       "      <td>118</td>\n",
       "      <td>342</td>\n",
       "      <td>153</td>\n",
       "      <td>0.115234</td>\n",
       "      <td>0.068359</td>\n",
       "      <td>0.667969</td>\n",
       "      <td>0.298828</td>\n",
       "      <td>[0.115234375, 0.068359375, 0.66796875, 0.29882...</td>\n",
       "      <td>data/airplanes/airplanes/image_0002.jpg</td>\n",
       "    </tr>\n",
       "    <tr>\n",
       "      <th>2</th>\n",
       "      <td>0</td>\n",
       "      <td>image_0003.jpg</td>\n",
       "      <td>36</td>\n",
       "      <td>135</td>\n",
       "      <td>47</td>\n",
       "      <td>331</td>\n",
       "      <td>Airplanes</td>\n",
       "      <td>47</td>\n",
       "      <td>36</td>\n",
       "      <td>284</td>\n",
       "      <td>99</td>\n",
       "      <td>331</td>\n",
       "      <td>135</td>\n",
       "      <td>0.091797</td>\n",
       "      <td>0.070312</td>\n",
       "      <td>0.646484</td>\n",
       "      <td>0.263672</td>\n",
       "      <td>[0.091796875, 0.0703125, 0.646484375, 0.263671...</td>\n",
       "      <td>data/airplanes/airplanes/image_0003.jpg</td>\n",
       "    </tr>\n",
       "    <tr>\n",
       "      <th>3</th>\n",
       "      <td>0</td>\n",
       "      <td>image_0004.jpg</td>\n",
       "      <td>24</td>\n",
       "      <td>141</td>\n",
       "      <td>47</td>\n",
       "      <td>342</td>\n",
       "      <td>Airplanes</td>\n",
       "      <td>47</td>\n",
       "      <td>24</td>\n",
       "      <td>295</td>\n",
       "      <td>117</td>\n",
       "      <td>342</td>\n",
       "      <td>141</td>\n",
       "      <td>0.091797</td>\n",
       "      <td>0.046875</td>\n",
       "      <td>0.667969</td>\n",
       "      <td>0.275391</td>\n",
       "      <td>[0.091796875, 0.046875, 0.66796875, 0.275390625]</td>\n",
       "      <td>data/airplanes/airplanes/image_0004.jpg</td>\n",
       "    </tr>\n",
       "    <tr>\n",
       "      <th>4</th>\n",
       "      <td>0</td>\n",
       "      <td>image_0005.jpg</td>\n",
       "      <td>18</td>\n",
       "      <td>146</td>\n",
       "      <td>48</td>\n",
       "      <td>339</td>\n",
       "      <td>Airplanes</td>\n",
       "      <td>48</td>\n",
       "      <td>18</td>\n",
       "      <td>291</td>\n",
       "      <td>128</td>\n",
       "      <td>339</td>\n",
       "      <td>146</td>\n",
       "      <td>0.093750</td>\n",
       "      <td>0.035156</td>\n",
       "      <td>0.662109</td>\n",
       "      <td>0.285156</td>\n",
       "      <td>[0.09375, 0.03515625, 0.662109375, 0.28515625]</td>\n",
       "      <td>data/airplanes/airplanes/image_0005.jpg</td>\n",
       "    </tr>\n",
       "  </tbody>\n",
       "</table>\n",
       "</div>"
      ],
      "text/plain": [
       "   Unnamed: 0           Image  x_top  y_top  x_bottom  y_bottom      label  \\\n",
       "0           0  image_0001.jpg     30    137        49       349  Airplanes   \n",
       "1           0  image_0002.jpg     35    153        59       342  Airplanes   \n",
       "2           0  image_0003.jpg     36    135        47       331  Airplanes   \n",
       "3           0  image_0004.jpg     24    141        47       342  Airplanes   \n",
       "4           0  image_0005.jpg     18    146        48       339  Airplanes   \n",
       "\n",
       "    x   y  width  height   x2   y2    x_norm    y_norm   x2_norm   y2_norm  \\\n",
       "0  49  30    300     107  349  137  0.095703  0.058594  0.681641  0.267578   \n",
       "1  59  35    283     118  342  153  0.115234  0.068359  0.667969  0.298828   \n",
       "2  47  36    284      99  331  135  0.091797  0.070312  0.646484  0.263672   \n",
       "3  47  24    295     117  342  141  0.091797  0.046875  0.667969  0.275391   \n",
       "4  48  18    291     128  339  146  0.093750  0.035156  0.662109  0.285156   \n",
       "\n",
       "                                           bbox_norm  \\\n",
       "0  [0.095703125, 0.05859375, 0.681640625, 0.26757...   \n",
       "1  [0.115234375, 0.068359375, 0.66796875, 0.29882...   \n",
       "2  [0.091796875, 0.0703125, 0.646484375, 0.263671...   \n",
       "3   [0.091796875, 0.046875, 0.66796875, 0.275390625]   \n",
       "4     [0.09375, 0.03515625, 0.662109375, 0.28515625]   \n",
       "\n",
       "                                image_path  \n",
       "0  data/airplanes/airplanes/image_0001.jpg  \n",
       "1  data/airplanes/airplanes/image_0002.jpg  \n",
       "2  data/airplanes/airplanes/image_0003.jpg  \n",
       "3  data/airplanes/airplanes/image_0004.jpg  \n",
       "4  data/airplanes/airplanes/image_0005.jpg  "
      ]
     },
     "execution_count": 40,
     "metadata": {},
     "output_type": "execute_result"
    }
   ],
   "source": [
    "# Función para corregir etiquetas (coordenadas)\n",
    "def corners_to_coco(x_top, y_top, x_bottom, y_bottom):\n",
    "    x = x_bottom\n",
    "    y = x_top\n",
    "    width = y_bottom - x_bottom\n",
    "    height = y_top - x_top\n",
    "    return [x, y, width, height]\n",
    "\n",
    "# Recalcular las coordenadas usando la función corregida\n",
    "df[['x', 'y', 'width', 'height']] = df.apply(\n",
    "    lambda row: pd.Series(corners_to_coco(row['x_top'], row['y_top'], row['x_bottom'], row['y_bottom'])),\n",
    "    axis=1\n",
    ")\n",
    "\n",
    "# Coordenadas finales\n",
    "df['x2'] = df['x'] + df['width']\n",
    "df['y2'] = df['y'] + df['height']\n",
    "\n",
    "# Normalizar para entrenamiento\n",
    "IMAGE_WIDTH = 512\n",
    "IMAGE_HEIGHT = 512\n",
    "df['x_norm'] = df['x'] / IMAGE_WIDTH\n",
    "df['y_norm'] = df['y'] / IMAGE_HEIGHT\n",
    "df['x2_norm'] = df['x2'] / IMAGE_WIDTH\n",
    "df['y2_norm'] = df['y2'] / IMAGE_HEIGHT\n",
    "\n",
    "# Vector para regresión\n",
    "df['bbox_norm'] = df[['x_norm', 'y_norm', 'x2_norm', 'y2_norm']].values.tolist()\n",
    "\n",
    "# Agregar ruta de imagen\n",
    "df['image_path'] = df['Image'].apply(lambda x: f\"data/airplanes/airplanes/{x}\")\n",
    "df.head()"
   ]
  },
  {
   "cell_type": "code",
   "execution_count": 41,
   "id": "6492ce51",
   "metadata": {},
   "outputs": [
    {
     "data": {
      "image/png": "[encoded data removed]",
      "text/plain": [
       "<Figure size 640x480 with 1 Axes>"
      ]
     },
     "metadata": {},
     "output_type": "display_data"
    }
   ],
   "source": [
    "import matplotlib.pyplot as plt\n",
    "import cv2\n",
    "\n",
    "def show_image_with_box(image_path, x1, y1, x2, y2):\n",
    "    img = cv2.imread(image_path)\n",
    "    if img is None:\n",
    "        raise FileNotFoundError(f\"Image not found or cannot be read: {image_path}\")\n",
    "    img = cv2.cvtColor(img, cv2.COLOR_BGR2RGB)\n",
    "    plt.imshow(img)\n",
    "    plt.gca().add_patch(\n",
    "        plt.Rectangle((x1, y1), x2 - x1, y2 - y1, edgecolor='green', facecolor='none', linewidth=2)\n",
    "    )\n",
    "    plt.axis('off')\n",
    "    plt.show()\n",
    "\n",
    "# Mostrar la primera imagen\n",
    "row = df.iloc[0]\n",
    "show_image_with_box(row['image_path'], row['x'], row['y'], row['x2'], row['y2'])\n"
   ]
  },
  {
   "cell_type": "code",
   "execution_count": 42,
   "id": "787d9b59",
   "metadata": {},
   "outputs": [],
   "source": [
    "import torch\n",
    "from torch.utils.data import Dataset, DataLoader\n",
    "from torchvision import transforms\n",
    "from PIL import Image\n",
    "\n",
    "class AirplaneDataset(Dataset):\n",
    "    def __init__(self, dataframe, transform=None):\n",
    "        self.dataframe = dataframe\n",
    "        self.transform = transform\n",
    "\n",
    "    def __len__(self):\n",
    "        return len(self.dataframe)\n",
    "\n",
    "    def __getitem__(self, idx):\n",
    "        row = self.dataframe.iloc[idx]\n",
    "        image = Image.open(row['image_path']).convert('RGB')\n",
    "        bbox = torch.tensor(row['bbox_norm'], dtype=torch.float32)\n",
    "        if self.transform:\n",
    "            image = self.transform(image)\n",
    "        return image, bbox\n",
    "\n",
    "# Aumentación y normalización\n",
    "transform = transforms.Compose([\n",
    "    transforms.Resize((224, 224)),\n",
    "    transforms.RandomHorizontalFlip(),\n",
    "    transforms.ColorJitter(brightness=0.2, contrast=0.2),\n",
    "    transforms.ToTensor(),\n",
    "])\n",
    "\n",
    "# Crear dataset y dataloader\n",
    "dataset = AirplaneDataset(df, transform=transform)\n",
    "dataloader = DataLoader(dataset, batch_size=8, shuffle=True)\n"
   ]
  },
  {
   "cell_type": "code",
   "execution_count": 43,
   "id": "8dfa7389",
   "metadata": {},
   "outputs": [
    {
     "name": "stderr",
     "output_type": "stream",
     "text": [
      "/opt/anaconda3/envs/computerV/lib/python3.12/site-packages/torchvision/models/_utils.py:208: UserWarning: The parameter 'pretrained' is deprecated since 0.13 and may be removed in the future, please use 'weights' instead.\n",
      "  warnings.warn(\n",
      "/opt/anaconda3/envs/computerV/lib/python3.12/site-packages/torchvision/models/_utils.py:223: UserWarning: Arguments other than a weight enum or `None` for 'weights' are deprecated since 0.13 and may be removed in the future. The current behavior is equivalent to passing `weights=ResNet18_Weights.IMAGENET1K_V1`. You can also use `weights=ResNet18_Weights.DEFAULT` to get the most up-to-date weights.\n",
      "  warnings.warn(msg)\n"
     ]
    }
   ],
   "source": [
    "import torch.nn as nn\n",
    "from torchvision.models import resnet18, resnet34\n",
    "\n",
    "# Modelo con ResNet18 como backbone\n",
    "class ResNetBackbone(nn.Module):\n",
    "    def __init__(self):\n",
    "        super().__init__()\n",
    "        # base = resnet18(pretrained=True)\n",
    "        base = resnet18(pretrained=True)\n",
    "        self.features = nn.Sequential(*list(base.children())[:-1])  # quitar capa final\n",
    "        self.regressor = nn.Sequential(\n",
    "            nn.Flatten(),\n",
    "            nn.Linear(512, 4),\n",
    "            nn.Sigmoid()  # Para mantener coordenadas entre 0 y 1\n",
    "        )\n",
    "\n",
    "    def forward(self, x):\n",
    "        x = self.features(x)\n",
    "        return self.regressor(x)\n",
    "\n",
    "model = ResNetBackbone().to(device)\n",
    "optimizer = torch.optim.Adam(model.parameters(), lr=0.001)\n",
    "criterion = nn.MSELoss()\n"
   ]
  },
  {
   "cell_type": "code",
   "execution_count": 44,
   "id": "da621d24",
   "metadata": {},
   "outputs": [],
   "source": [
    "def compute_iou(box1, box2):\n",
    "    xi1 = max(box1[0], box2[0])\n",
    "    yi1 = max(box1[1], box2[1])\n",
    "    xi2 = min(box1[2], box2[2])\n",
    "    yi2 = min(box1[3], box2[3])\n",
    "    inter_area = max((xi2 - xi1), 0) * max((yi2 - yi1), 0)\n",
    "    box1_area = (box1[2] - box1[0]) * (box1[3] - box1[1])\n",
    "    box2_area = (box2[2] - box2[0]) * (box2[3] - box2[1])\n",
    "    union_area = box1_area + box2_area - inter_area\n",
    "    return inter_area / union_area if union_area != 0 else 0"
   ]
  },
  {
   "cell_type": "code",
   "execution_count": null,
   "id": "81f45dcf",
   "metadata": {},
   "outputs": [
    {
     "name": "stdout",
     "output_type": "stream",
     "text": [
      "🔁 Epoch 1/15 - Loss promedio: 0.0072\n",
      "🔁 Epoch 2/15 - Loss promedio: 0.0019\n",
      "🔁 Epoch 3/15 - Loss promedio: 0.0014\n"
     ]
    }
   ],
   "source": [
    "# Entrenamiento\n",
    "best_model = None\n",
    "best_iou = 0.0\n",
    "iou_per_epoch = []\n",
    "EPOCHS = 15\n",
    "\n",
    "for epoch in range(EPOCHS):\n",
    "    model.train()\n",
    "    running_loss = 0.0\n",
    "    for images, targets in dataloader:\n",
    "        images, targets = images.to(device), targets.to(device)\n",
    "        outputs = model(images)\n",
    "        loss = criterion(outputs, targets)\n",
    "        optimizer.zero_grad()\n",
    "        loss.backward()\n",
    "        optimizer.step()\n",
    "        running_loss += loss.item()\n",
    "\n",
    "    avg_loss = running_loss / len(dataloader)\n",
    "    print(f\"🔁 Epoch {epoch+1}/{EPOCHS} - Loss promedio: {avg_loss:.4f}\")"
   ]
  },
  {
   "cell_type": "code",
   "execution_count": null,
   "id": "03c2d87e",
   "metadata": {},
   "outputs": [],
   "source": [
    "import numpy as np\n",
    "import copy\n",
    " \n",
    "# Evaluar IoU en 20 muestras\n",
    "model.eval()\n",
    "ious = []\n",
    "for i in range(20):\n",
    "    image, target = dataset[i]\n",
    "    image = image.unsqueeze(0).to(device)\n",
    "    pred = model(image).detach().cpu().numpy().flatten()\n",
    "    true = target.numpy().flatten()\n",
    "    pred_box = [pred[0]*512, pred[1]*512, pred[2]*512, pred[3]*512]\n",
    "    true_box = [true[0]*512, true[1]*512, true[2]*512, true[3]*512]\n",
    "    ious.append(compute_iou(pred_box, true_box))\n",
    "\n",
    "avg_iou = np.mean(ious)\n",
    "iou_per_epoch.append(avg_iou)\n",
    "print(f\"🔍 IoU promedio: {avg_iou:.3f}\")\n",
    "\n",
    "if avg_iou > best_iou:\n",
    "    best_model = copy.deepcopy(model.state_dict())\n",
    "    best_iou = avg_iou\n",
    "    print(\"✅ Nuevo mejor modelo guardado.\")\n",
    "\n",
    "torch.save(best_model, \"mejor_modelo_bbox.pth\")\n",
    "print(\"📦 Modelo guardado.\")"
   ]
  },
  {
   "cell_type": "code",
   "execution_count": null,
   "id": "b9cd0a2c",
   "metadata": {},
   "outputs": [],
   "source": [
    "# box verde en la imagen: Ground Truth (bounding box real del avión)\n",
    "# box rojo en la imagen: Predicción del modelo (bounding box predicha)\n",
    "import matplotlib.pyplot as plt\n",
    "import cv2\n",
    "import random\n",
    "\n",
    "def visualize_predictions(model, dataset, num_images=5):\n",
    "    model.eval()\n",
    "    indices = random.sample(range(len(dataset)), num_images)\n",
    "    fig, axes = plt.subplots(1, num_images, figsize=(20, 5))\n",
    "\n",
    "    for i, idx in enumerate(indices):\n",
    "        image, true_bbox = dataset[idx]\n",
    "        image_input = image.unsqueeze(0).to(device)\n",
    "        pred_bbox = model(image_input).detach().cpu().numpy().flatten()\n",
    "        true = [int(x * 512) for x in true_bbox]\n",
    "        pred = [int(x * 512) for x in pred_bbox]\n",
    "        image_path = df.iloc[idx]['image_path']\n",
    "        img = cv2.imread(image_path)\n",
    "        if img is None:\n",
    "            continue\n",
    "        img = cv2.cvtColor(img, cv2.COLOR_BGR2RGB)\n",
    "        cv2.rectangle(img, (true[0], true[1]), (true[2], true[3]), (0, 255, 0), 2)\n",
    "        cv2.rectangle(img, (pred[0], pred[1]), (pred[2], pred[3]), (255, 0, 0), 2)\n",
    "        axes[i].imshow(img)\n",
    "        axes[i].set_title(f'Img {idx}')\n",
    "        axes[i].axis('off')\n",
    "    plt.tight_layout()\n",
    "    plt.show()\n",
    "\n",
    "visualize_predictions(model, dataset, num_images=5)"
   ]
  }
 ],
 "metadata": {
  "kernelspec": {
   "display_name": "computerV",
   "language": "python",
   "name": "python3"
  },
  "language_info": {
   "codemirror_mode": {
    "name": "ipython",
    "version": 3
   },
   "file_extension": ".py",
   "mimetype": "text/x-python",
   "name": "python",
   "nbconvert_exporter": "python",
   "pygments_lexer": "ipython3",
   "version": "3.12.9"
  }
 },
 "nbformat": 4,
 "nbformat_minor": 5
}
